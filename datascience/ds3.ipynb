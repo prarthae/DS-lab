{
 "cells": [
  {
   "cell_type": "code",
   "execution_count": 1,
   "id": "39e41c6d-915b-4a50-9362-1714f195893e",
   "metadata": {},
   "outputs": [],
   "source": [
    "# Write a python prgrm to convert list to series\n",
    "# Write a python prgrm to generate series of dates from first aug 2024 to 15 aug 2024\n",
    "# Convert a dictionory to dataframe and display\n",
    "# Create a 2D list and convert it into dataframe and display it"
   ]
  },
  {
   "cell_type": "code",
   "execution_count": 2,
   "id": "f0d8efac-2665-4345-a059-e15cfbde3514",
   "metadata": {},
   "outputs": [],
   "source": [
    "import numpy as np\n",
    "import pandas as pd"
   ]
  },
  {
   "cell_type": "code",
   "execution_count": 3,
   "id": "6a17e5e9-31c6-46da-ae08-8ed7e5f46d66",
   "metadata": {},
   "outputs": [
    {
     "name": "stdout",
     "output_type": "stream",
     "text": [
      "0    10\n",
      "1    20\n",
      "2    30\n",
      "3    50\n",
      "dtype: int64\n"
     ]
    }
   ],
   "source": [
    "l1=[10,20,30,50]\n",
    "s1=pd.Series(data=l1)\n",
    "print(s1)"
   ]
  },
  {
   "cell_type": "code",
   "execution_count": 4,
   "id": "f13b15eb-a14c-4f24-a1fe-a5f737f50c37",
   "metadata": {},
   "outputs": [
    {
     "name": "stdout",
     "output_type": "stream",
     "text": [
      "<class 'pandas.core.series.Series'>\n"
     ]
    }
   ],
   "source": [
    "print(type(s1))"
   ]
  },
  {
   "cell_type": "code",
   "execution_count": 5,
   "id": "d6d3575c-7ffe-4e00-8ed9-b938ad0c7c79",
   "metadata": {},
   "outputs": [
    {
     "name": "stdout",
     "output_type": "stream",
     "text": [
      "0    2024-08-01\n",
      "1    2024-08-02\n",
      "2    2024-08-03\n",
      "3    2024-08-04\n",
      "4    2024-08-05\n",
      "5    2024-08-06\n",
      "6    2024-08-07\n",
      "7    2024-08-08\n",
      "8    2024-08-09\n",
      "9    2024-08-10\n",
      "10   2024-08-11\n",
      "11   2024-08-12\n",
      "12   2024-08-13\n",
      "13   2024-08-14\n",
      "14   2024-08-15\n",
      "dtype: datetime64[ns]\n"
     ]
    }
   ],
   "source": [
    "date=pd.date_range(start=\"2024-08-01\",end=\"2024-08-15\",freq=\"D\")\n",
    "s2=pd.Series(data=date)\n",
    "print(s2)"
   ]
  },
  {
   "cell_type": "code",
   "execution_count": 8,
   "id": "e5f6adaa-9134-4f4a-9778-5ca970b435a8",
   "metadata": {},
   "outputs": [
    {
     "name": "stdout",
     "output_type": "stream",
     "text": [
      "   apple  orange  watermelon  grape\n",
      "0     20      23          12     43\n"
     ]
    }
   ],
   "source": [
    "dict1 = {'apple': 20, 'orange': 23, 'watermelon': 12, 'grape': 43}\n",
    "df1 = pd.DataFrame(dict1, index=[0])\n",
    "\n",
    "print(df1)"
   ]
  },
  {
   "cell_type": "code",
   "execution_count": 11,
   "id": "6bfdf27c-a84d-44e9-846f-8782280046a0",
   "metadata": {},
   "outputs": [
    {
     "name": "stdout",
     "output_type": "stream",
     "text": [
      "            0   1\n",
      "0       apple  20\n",
      "1      orange  23\n",
      "2  watermelon  12\n",
      "3       grape  43\n"
     ]
    }
   ],
   "source": [
    "df1 = pd.DataFrame(list(dict1.items()))\n",
    "\n",
    "print(df1)"
   ]
  },
  {
   "cell_type": "code",
   "execution_count": 14,
   "id": "e97876c7-00f5-4dcb-8374-314b9ebe8b81",
   "metadata": {},
   "outputs": [
    {
     "name": "stdout",
     "output_type": "stream",
     "text": [
      "   x  y  z\n",
      "0  1  2  3\n",
      "1  4  5  6\n"
     ]
    }
   ],
   "source": [
    "m1=np.array([[1,2,3],\n",
    "            [4,5,6]])\n",
    "\n",
    "df1 = pd.DataFrame(m1,columns=['x','y','z'])\n",
    "print(df1)"
   ]
  },
  {
   "cell_type": "code",
   "execution_count": null,
   "id": "3104c063-8584-462b-b8ff-da0cda22667d",
   "metadata": {},
   "outputs": [],
   "source": []
  }
 ],
 "metadata": {
  "kernelspec": {
   "display_name": "Python 3 (ipykernel)",
   "language": "python",
   "name": "python3"
  },
  "language_info": {
   "codemirror_mode": {
    "name": "ipython",
    "version": 3
   },
   "file_extension": ".py",
   "mimetype": "text/x-python",
   "name": "python",
   "nbconvert_exporter": "python",
   "pygments_lexer": "ipython3",
   "version": "3.12.4"
  }
 },
 "nbformat": 4,
 "nbformat_minor": 5
}
