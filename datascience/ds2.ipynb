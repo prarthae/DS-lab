{
 "cells": [
  {
   "cell_type": "code",
   "execution_count": 1,
   "id": "ee244264-f4ea-4293-8ebc-137aaaea000c",
   "metadata": {},
   "outputs": [],
   "source": [
    "import numpy as np"
   ]
  },
  {
   "cell_type": "code",
   "execution_count": 2,
   "id": "f40062b9-6c23-43f3-af1d-f9f788ecab5f",
   "metadata": {},
   "outputs": [
    {
     "name": "stdout",
     "output_type": "stream",
     "text": [
      "[[1 2]\n",
      " [3 4]]\n",
      "[[2 3]\n",
      " [1 2]]\n",
      "[[ 4  7]\n",
      " [10 17]]\n",
      "[[1 3]\n",
      " [2 4]]\n",
      "[2 3 1 2]\n"
     ]
    }
   ],
   "source": [
    "m1=np.array([[1,2],[3,4]])\n",
    "print(m1)\n",
    "m2=np.array([[2,3],[1,2]])\n",
    "print(m2)\n",
    "c=np.dot(m1,m2)\n",
    "print(c)\n",
    "t1=np.transpose(m1)\n",
    "print(t1)\n",
    "m3=m2.flatten()\n",
    "print(m3)"
   ]
  },
  {
   "cell_type": "code",
   "execution_count": 3,
   "id": "ea023654-1133-449c-96a7-bacca08f736b",
   "metadata": {},
   "outputs": [
    {
     "name": "stdin",
     "output_type": "stream",
     "text": [
      "Enter num :  2\n"
     ]
    }
   ],
   "source": [
    "m1=int(input(\"Enter num : \"))"
   ]
  },
  {
   "cell_type": "code",
   "execution_count": 5,
   "id": "eb546fbf-c2ae-4f1c-af89-1dee10df08d1",
   "metadata": {},
   "outputs": [
    {
     "name": "stdin",
     "output_type": "stream",
     "text": [
      " 3\n",
      " 2\n",
      " 3\n",
      " 4\n"
     ]
    },
    {
     "name": "stdout",
     "output_type": "stream",
     "text": [
      "[[3, 2], [3, 4]]\n"
     ]
    }
   ],
   "source": [
    "# read matrix from the user\n",
    "mat=[]\n",
    "for i in range(2):\n",
    "    row=[]\n",
    "    for j in range(2):\n",
    "        a=int(input())\n",
    "        row.append(a)\n",
    "    mat.append(row)\n",
    "print(mat)\n"
   ]
  },
  {
   "cell_type": "code",
   "execution_count": 6,
   "id": "4b31eee4-799c-42bb-885d-d390667906f9",
   "metadata": {},
   "outputs": [
    {
     "name": "stdout",
     "output_type": "stream",
     "text": [
      "[[3 3]\n",
      " [2 4]]\n"
     ]
    }
   ],
   "source": [
    "tr=np.transpose(mat)\n",
    "print(tr)"
   ]
  },
  {
   "cell_type": "code",
   "execution_count": 7,
   "id": "437d1740-8015-4014-a086-42c4347e9fce",
   "metadata": {},
   "outputs": [
    {
     "name": "stdin",
     "output_type": "stream",
     "text": [
      "Enter rows :  2\n",
      "Enter cols:  3\n",
      " 1\n",
      " 2\n",
      " 3\n",
      " 4\n",
      " 4\n",
      " 5\n"
     ]
    },
    {
     "name": "stdout",
     "output_type": "stream",
     "text": [
      "1 2 3  \n",
      "4 4 5  \n"
     ]
    }
   ],
   "source": [
    "mat1=[]\n",
    "r=int(input(\"Enter rows : \"))\n",
    "c=int(input(\"Enter cols: \"))\n",
    "for i in range(r):\n",
    "    rows=[]\n",
    "    for j in range(c):\n",
    "        a=int(input())\n",
    "        rows.append(a)\n",
    "    mat1.append(rows)\n",
    "for i in range (r):\n",
    "    for j in range (c):\n",
    "        print(mat1[i][j],end=\" \")\n",
    "    print(\" \")"
   ]
  },
  {
   "cell_type": "code",
   "execution_count": 9,
   "id": "2573ac77-8c0c-4326-b33f-99637c45ff8d",
   "metadata": {},
   "outputs": [
    {
     "name": "stdin",
     "output_type": "stream",
     "text": [
      " 1 2 3 4\n"
     ]
    },
    {
     "name": "stdout",
     "output_type": "stream",
     "text": [
      "[[1 2]\n",
      " [3 4]]\n"
     ]
    }
   ],
   "source": [
    "# get row size and col size from user for creating matrix using list function\n",
    "a=list(map(int,input().split()))\n",
    "\n",
    "matrix=np.array(a).reshape(2,2)\n",
    "print(matrix)"
   ]
  },
  {
   "cell_type": "code",
   "execution_count": 10,
   "id": "213b98ca-372a-4378-ab29-3bab56948a4b",
   "metadata": {},
   "outputs": [],
   "source": [
    "# create a vector with value from 0-20 and change the sign of the number in the range from 9-15\n",
    "# write a numpy prgrm to compute sum of all elmnts,each cols,each rows of given array\n",
    "# write a numpy prgrm  to save a text file and load it\n",
    "# write a numpy program to check whether 2 arrays are eaqual or not (elmnt wise comparison)\n",
    "# create 4*4 array with ranom values , create a new array from the set array by swapping 1st and last rows\n",
    "# numpy prgrm to multiply two given arrays of same size elemnt by elemnt"
   ]
  },
  {
   "cell_type": "code",
   "execution_count": 11,
   "id": "817a1f82-6345-4d59-96fd-8e3203f28269",
   "metadata": {},
   "outputs": [
    {
     "name": "stdout",
     "output_type": "stream",
     "text": [
      "[ 0  1  2  3  4  5  6  7  8  9 10 11 12 13 14 15 16 17 18 19 20]\n",
      "[  0   1   2   3   4   5   6   7   8  -9 -10 -11 -12 -13 -14 -15  16  17\n",
      "  18  19  20]\n"
     ]
    }
   ],
   "source": [
    "# create a vector with value from 0-20 and change the sign of the number in the range from 9-15\n",
    "vectors=np.arange(21)\n",
    "print(vectors)\n",
    "vectors[(vectors>=9)&(vectors<=15)]*=-1\n",
    "print(vectors)"
   ]
  },
  {
   "cell_type": "code",
   "execution_count": 15,
   "id": "852fe119-c0c2-426f-b002-c3dc36f0f681",
   "metadata": {},
   "outputs": [
    {
     "name": "stdout",
     "output_type": "stream",
     "text": [
      "[[2 3]\n",
      " [1 2]]\n"
     ]
    }
   ],
   "source": [
    "print(m2)"
   ]
  },
  {
   "cell_type": "code",
   "execution_count": 16,
   "id": "bef7a20a-695e-4194-bb63-d8103a590997",
   "metadata": {},
   "outputs": [
    {
     "name": "stdout",
     "output_type": "stream",
     "text": [
      "2\n"
     ]
    }
   ],
   "source": [
    "# transpose,rank,inverse,trace,eigenvalues\n",
    "# rank\n",
    "rank=np.linalg.matrix_rank(m2)\n",
    "print(rank)"
   ]
  },
  {
   "cell_type": "code",
   "execution_count": 17,
   "id": "155a9353-2600-421d-8977-98b63461ff37",
   "metadata": {},
   "outputs": [
    {
     "name": "stdout",
     "output_type": "stream",
     "text": [
      "[[2 1]\n",
      " [3 2]]\n"
     ]
    }
   ],
   "source": [
    "# transpose\n",
    "transpos=np.transpose(m2)\n",
    "print(transpos)"
   ]
  },
  {
   "cell_type": "code",
   "execution_count": 19,
   "id": "8143ad26-973a-4e32-9f4e-8ca8768261d4",
   "metadata": {},
   "outputs": [
    {
     "name": "stdout",
     "output_type": "stream",
     "text": [
      "[[ 2. -3.]\n",
      " [-1.  2.]]\n"
     ]
    }
   ],
   "source": [
    "# inverse\n",
    "inverse=np.linalg.inv(m2)\n",
    "print(inverse)"
   ]
  },
  {
   "cell_type": "code",
   "execution_count": 20,
   "id": "1ac53409-0bd3-41c0-9865-2ad98b6e2ca4",
   "metadata": {},
   "outputs": [
    {
     "name": "stdout",
     "output_type": "stream",
     "text": [
      "4\n"
     ]
    }
   ],
   "source": [
    "# trace \n",
    "tr=np.trace(m2)\n",
    "print(tr)"
   ]
  },
  {
   "cell_type": "code",
   "execution_count": 24,
   "id": "8272b451-7179-4c83-87f7-eaf663ee5556",
   "metadata": {},
   "outputs": [
    {
     "name": "stdout",
     "output_type": "stream",
     "text": [
      "eigen values:  [3.73205081 0.26794919]\n",
      "Eigen vectors : \n",
      " [[ 0.8660254 -0.8660254]\n",
      " [ 0.5        0.5      ]]\n"
     ]
    }
   ],
   "source": [
    "# eigenvalues\n",
    "e1,e2=np.linalg.eig(m2)\n",
    "print(\"eigen values: \",e1)\n",
    "print(\"Eigen vectors : \\n\",e2)"
   ]
  },
  {
   "cell_type": "code",
   "execution_count": 29,
   "id": "9f8c967d-665f-451c-aeec-161a964b52a4",
   "metadata": {},
   "outputs": [
    {
     "name": "stdout",
     "output_type": "stream",
     "text": [
      "[[1 2 3]\n",
      " [2 3 4]\n",
      " [3 3 3]]\n",
      "Total Sum :  24\n",
      "Column wise sum :  [ 6  8 10]\n",
      "Row wise sum :  [6 9 9]\n"
     ]
    }
   ],
   "source": [
    "# write a numpy prgrm to compute sum of all elmnts,each cols,each rows of given array\n",
    "array=np.array([[1,2,3],\n",
    "       [2,3,4],\n",
    "       [3,3,3]])\n",
    "print(array)\n",
    "total_sum=np.sum(array)\n",
    "print(\"Total Sum : \",total_sum)\n",
    "col_sum=np.sum(array,axis=0)\n",
    "print(\"Column wise sum : \",col_sum)\n",
    "row_sum=np.sum(array,axis=1)\n",
    "print(\"Row wise sum : \",row_sum)"
   ]
  },
  {
   "cell_type": "code",
   "execution_count": 32,
   "id": "551464a6-d501-4536-8fd7-d965bb993282",
   "metadata": {},
   "outputs": [
    {
     "name": "stdout",
     "output_type": "stream",
     "text": [
      "[[ True  True  True]\n",
      " [ True False  True]]\n"
     ]
    }
   ],
   "source": [
    "m1=np.array([[1,2,3],\n",
    "            [4,5,6]])\n",
    "m2=np.array([[1,2,3],\n",
    "            [4,9,6]])\n",
    "comp=m1==m2\n",
    "print(comp)"
   ]
  },
  {
   "cell_type": "code",
   "execution_count": 35,
   "id": "0ce62709-6503-4e1a-9e1e-c44dfd956cff",
   "metadata": {},
   "outputs": [
    {
     "name": "stdout",
     "output_type": "stream",
     "text": [
      "Original array \n",
      " [[29  6 76 46]\n",
      " [25 44 29 36]\n",
      " [75  9  3  8]\n",
      " [23 82 23 36]]\n",
      "New array\n",
      " [[23 82 23 36]\n",
      " [25 44 29 36]\n",
      " [75  9  3  8]\n",
      " [29  6 76 46]]\n"
     ]
    }
   ],
   "source": [
    "# create 4*4 array with ranom values , create a new array from the set array by swapping 1st and last rows\n",
    "o_array=np.random.randint(0,100,size=(4,4))\n",
    "print(\"Original array \\n\",o_array)\n",
    "n_array=np.copy(o_array)\n",
    "n_array[[0,-1]]=n_array[[-1,0]]\n",
    "print(\"New array\\n\",n_array)"
   ]
  },
  {
   "cell_type": "code",
   "execution_count": 38,
   "id": "5348d02b-7c14-4bf3-839d-4fe59a7acb95",
   "metadata": {},
   "outputs": [
    {
     "name": "stdout",
     "output_type": "stream",
     "text": [
      "First array\n",
      " [[1 2 3]\n",
      " [4 5 6]]\n",
      "Second array\n",
      " [[1 2 3]\n",
      " [4 9 6]]\n",
      "Element wise product \n",
      " [[ 1  4  9]\n",
      " [16 45 36]]\n"
     ]
    }
   ],
   "source": [
    "print(\"First array\\n\",m1)\n",
    "print(\"Second array\\n\",m2)\n",
    "pro=m1*m2\n",
    "print(\"Element wise product \\n\",pro)"
   ]
  },
  {
   "cell_type": "code",
   "execution_count": 41,
   "id": "1971383f-2be9-43a6-a277-65a8840e9ef9",
   "metadata": {},
   "outputs": [
    {
     "name": "stdout",
     "output_type": "stream",
     "text": [
      "[[1 2 3]\n",
      " [2 3 4]\n",
      " [3 3 3]] \n",
      "\n",
      "[[1. 2. 3.]\n",
      " [2. 3. 4.]\n",
      " [3. 3. 3.]]\n"
     ]
    }
   ],
   "source": [
    "# write a numpy prgrm  to save a text file and load it\n",
    "print(array,\"\\n\")\n",
    "fname=\"array1.txt\"\n",
    "np.savetxt(fname,array)\n",
    "lod=np.loadtxt(fname)\n",
    "print(lod)"
   ]
  },
  {
   "cell_type": "code",
   "execution_count": null,
   "id": "fc4b0aed-1a79-48bf-9c23-f5f5d7351e34",
   "metadata": {},
   "outputs": [],
   "source": [
    "# Write a python prgrm to create a bar plot of scores by group and gender.Use multiple X values on the same chart for men and women.\n",
    "men=[22,30,35,35,26]\n",
    "women=[25,32,30,35,29]"
   ]
  }
 ],
 "metadata": {
  "kernelspec": {
   "display_name": "Python 3 (ipykernel)",
   "language": "python",
   "name": "python3"
  },
  "language_info": {
   "codemirror_mode": {
    "name": "ipython",
    "version": 3
   },
   "file_extension": ".py",
   "mimetype": "text/x-python",
   "name": "python",
   "nbconvert_exporter": "python",
   "pygments_lexer": "ipython3",
   "version": "3.12.4"
  }
 },
 "nbformat": 4,
 "nbformat_minor": 5
}
