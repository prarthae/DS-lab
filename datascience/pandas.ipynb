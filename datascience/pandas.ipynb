{
 "cells": [
  {
   "cell_type": "code",
   "execution_count": 1,
   "id": "31e05e1c-ebf2-48c4-a50e-591f8f74abf2",
   "metadata": {},
   "outputs": [],
   "source": [
    "import pandas as pd\n",
    "import numpy as np"
   ]
  },
  {
   "cell_type": "raw",
   "id": "e6adca85-124c-4cf5-a5e2-a8d4d02b7ce1",
   "metadata": {},
   "source": [
    "Data types in pnadas\n",
    "1, Series (Series can be indexed by labels, can hold any type of data, can also hold python object, can convert list,dictionary ect to series)\n",
    "2, "
   ]
  },
  {
   "cell_type": "code",
   "execution_count": 2,
   "id": "7abe8636-782d-4ada-acd6-a40fdd29b507",
   "metadata": {},
   "outputs": [],
   "source": [
    "label =['a','b','c','d']\n",
    "list1=[1,2,3,4]\n",
    "\n",
    "#arrat with values 40,50,60 with numpy\n",
    "a=np.array([40,50,60])\n",
    "dict={'a':10,'b':20,'c':30}"
   ]
  },
  {
   "cell_type": "code",
   "execution_count": 3,
   "id": "efb932ec-5416-425d-9e7e-630e2dabbc37",
   "metadata": {},
   "outputs": [
    {
     "data": {
      "text/plain": [
       "0    1\n",
       "1    2\n",
       "2    3\n",
       "3    4\n",
       "dtype: int64"
      ]
     },
     "execution_count": 3,
     "metadata": {},
     "output_type": "execute_result"
    }
   ],
   "source": [
    "pd.Series(data=list1)"
   ]
  },
  {
   "cell_type": "code",
   "execution_count": 4,
   "id": "be15c9fc-62d6-40c9-933c-173da6200ab6",
   "metadata": {},
   "outputs": [
    {
     "data": {
      "text/plain": [
       "a    1\n",
       "b    2\n",
       "c    3\n",
       "d    4\n",
       "dtype: int64"
      ]
     },
     "execution_count": 4,
     "metadata": {},
     "output_type": "execute_result"
    }
   ],
   "source": [
    "pd.Series(data=list1,index=label)"
   ]
  },
  {
   "cell_type": "code",
   "execution_count": 5,
   "id": "667c1a26-87a5-49ce-9c8b-baf05ef645ad",
   "metadata": {},
   "outputs": [
    {
     "data": {
      "text/plain": [
       "a    a\n",
       "b    b\n",
       "c    c\n",
       "d    d\n",
       "dtype: object"
      ]
     },
     "execution_count": 5,
     "metadata": {},
     "output_type": "execute_result"
    }
   ],
   "source": [
    "pd.Series(data=label,index=label)"
   ]
  },
  {
   "cell_type": "code",
   "execution_count": 6,
   "id": "54a8f9f5-1a73-4a26-9416-71fcf4c22f89",
   "metadata": {},
   "outputs": [
    {
     "data": {
      "text/plain": [
       "0      <built-in function sum>\n",
       "1    <built-in function print>\n",
       "2      <built-in function len>\n",
       "dtype: object"
      ]
     },
     "execution_count": 6,
     "metadata": {},
     "output_type": "execute_result"
    }
   ],
   "source": [
    "pd.Series([sum,print,len])"
   ]
  },
  {
   "cell_type": "code",
   "execution_count": 7,
   "id": "2595a560-2cee-452b-9fc7-28ad38783d23",
   "metadata": {},
   "outputs": [
    {
     "data": {
      "text/plain": [
       "0    40\n",
       "1    50\n",
       "2    60\n",
       "dtype: int32"
      ]
     },
     "execution_count": 7,
     "metadata": {},
     "output_type": "execute_result"
    }
   ],
   "source": [
    "pd.Series(data=a)\n"
   ]
  },
  {
   "cell_type": "code",
   "execution_count": 8,
   "id": "9678aa7f-b55b-4fb5-a08d-326a2d231f4b",
   "metadata": {},
   "outputs": [
    {
     "data": {
      "text/plain": [
       "a    10\n",
       "b    20\n",
       "c    30\n",
       "dtype: int64"
      ]
     },
     "execution_count": 8,
     "metadata": {},
     "output_type": "execute_result"
    }
   ],
   "source": [
    "pd.Series(data=dict)"
   ]
  },
  {
   "cell_type": "code",
   "execution_count": 9,
   "id": "d5f67ea5-ac44-432c-9841-76c951b724b1",
   "metadata": {},
   "outputs": [
    {
     "data": {
      "text/plain": [
       "cars     [toyota, bmw, kia]\n",
       "color    [red, black, blue]\n",
       "dtype: object"
      ]
     },
     "execution_count": 9,
     "metadata": {},
     "output_type": "execute_result"
    }
   ],
   "source": [
    "mydataset={'cars':['toyota','bmw','kia'],'color':['red','black','blue']}\n",
    "pd.Series(mydataset)"
   ]
  },
  {
   "cell_type": "code",
   "execution_count": 10,
   "id": "e554f615-46df-46d3-b915-e34daa94a6c3",
   "metadata": {},
   "outputs": [
    {
     "data": {
      "text/html": [
       "<div>\n",
       "<style scoped>\n",
       "    .dataframe tbody tr th:only-of-type {\n",
       "        vertical-align: middle;\n",
       "    }\n",
       "\n",
       "    .dataframe tbody tr th {\n",
       "        vertical-align: top;\n",
       "    }\n",
       "\n",
       "    .dataframe thead th {\n",
       "        text-align: right;\n",
       "    }\n",
       "</style>\n",
       "<table border=\"1\" class=\"dataframe\">\n",
       "  <thead>\n",
       "    <tr style=\"text-align: right;\">\n",
       "      <th></th>\n",
       "      <th>cars</th>\n",
       "      <th>color</th>\n",
       "    </tr>\n",
       "  </thead>\n",
       "  <tbody>\n",
       "    <tr>\n",
       "      <th>0</th>\n",
       "      <td>toyota</td>\n",
       "      <td>red</td>\n",
       "    </tr>\n",
       "    <tr>\n",
       "      <th>1</th>\n",
       "      <td>bmw</td>\n",
       "      <td>black</td>\n",
       "    </tr>\n",
       "    <tr>\n",
       "      <th>2</th>\n",
       "      <td>kia</td>\n",
       "      <td>blue</td>\n",
       "    </tr>\n",
       "  </tbody>\n",
       "</table>\n",
       "</div>"
      ],
      "text/plain": [
       "     cars  color\n",
       "0  toyota    red\n",
       "1     bmw  black\n",
       "2     kia   blue"
      ]
     },
     "execution_count": 10,
     "metadata": {},
     "output_type": "execute_result"
    }
   ],
   "source": [
    "pd.DataFrame(mydataset)"
   ]
  },
  {
   "cell_type": "code",
   "execution_count": 11,
   "id": "e15e8838-2236-489e-95c7-22894e9f480a",
   "metadata": {},
   "outputs": [],
   "source": [
    "# create a list of fruites with colors(label) \n",
    "# create a 2D with list of fruites ad colors"
   ]
  },
  {
   "cell_type": "code",
   "execution_count": 12,
   "id": "4e7236dc-7682-4a8e-9bd2-78aefe0333ae",
   "metadata": {},
   "outputs": [
    {
     "data": {
      "text/plain": [
       "orange    orange\n",
       "red        apple\n",
       "violet     grape\n",
       "dtype: object"
      ]
     },
     "execution_count": 12,
     "metadata": {},
     "output_type": "execute_result"
    }
   ],
   "source": [
    "l1=['orange','apple','grape']\n",
    "l2=['orange','red','violet']\n",
    "pd.Series(data=l1,index=l2)"
   ]
  },
  {
   "cell_type": "code",
   "execution_count": 13,
   "id": "a58602fd-8f9f-4e43-90bf-9474b2f69185",
   "metadata": {},
   "outputs": [],
   "source": [
    "table1={'orange':'orange','apple':'red','grape':'violet'}\n"
   ]
  },
  {
   "cell_type": "code",
   "execution_count": 14,
   "id": "dd23e458-84ea-4367-b505-c52a02b386d1",
   "metadata": {},
   "outputs": [
    {
     "data": {
      "text/plain": [
       "a    1\n",
       "b    2\n",
       "c    3\n",
       "d    4\n",
       "dtype: int64"
      ]
     },
     "execution_count": 14,
     "metadata": {},
     "output_type": "execute_result"
    }
   ],
   "source": [
    "pd.Series(data=[1,2,3,4],index=['a','b','c','d'])"
   ]
  },
  {
   "cell_type": "code",
   "execution_count": 15,
   "id": "a2e5f5c4-8cb1-459f-b4cc-8507f9f72b65",
   "metadata": {},
   "outputs": [],
   "source": [
    "import random \n",
    "# seed function : used to save the state of random function so that it can generate some random numbers on multiple exicution of the code ,\n",
    "# seed is used to initialize the random number generator"
   ]
  },
  {
   "cell_type": "code",
   "execution_count": 16,
   "id": "cd631c56-b8e0-441f-8855-31b996787cd7",
   "metadata": {},
   "outputs": [
    {
     "name": "stdout",
     "output_type": "stream",
     "text": [
      "first 79\n",
      "second 79\n"
     ]
    }
   ],
   "source": [
    "random.seed(40)\n",
    "print('first',random.randint(50,100))\n",
    "random.seed(40)\n",
    "print('second',random.randint(50,100))"
   ]
  },
  {
   "cell_type": "code",
   "execution_count": 17,
   "id": "a3b452af-a2c7-4215-825e-b9bffa4ddcf9",
   "metadata": {},
   "outputs": [
    {
     "name": "stdout",
     "output_type": "stream",
     "text": [
      "0.9056396761745207\n",
      "0.5714025946899135\n"
     ]
    }
   ],
   "source": [
    "random.seed(20)\n",
    "print(random.random())\n",
    "random.seed(10)\n",
    "print(random.random())"
   ]
  },
  {
   "cell_type": "code",
   "execution_count": 18,
   "id": "ac869dea-c5af-4cf9-b2e2-9debe04d9e5a",
   "metadata": {},
   "outputs": [
    {
     "data": {
      "text/html": [
       "<div>\n",
       "<style scoped>\n",
       "    .dataframe tbody tr th:only-of-type {\n",
       "        vertical-align: middle;\n",
       "    }\n",
       "\n",
       "    .dataframe tbody tr th {\n",
       "        vertical-align: top;\n",
       "    }\n",
       "\n",
       "    .dataframe thead th {\n",
       "        text-align: right;\n",
       "    }\n",
       "</style>\n",
       "<table border=\"1\" class=\"dataframe\">\n",
       "  <thead>\n",
       "    <tr style=\"text-align: right;\">\n",
       "      <th></th>\n",
       "      <th>p</th>\n",
       "      <th>q</th>\n",
       "      <th>r</th>\n",
       "      <th>s</th>\n",
       "    </tr>\n",
       "  </thead>\n",
       "  <tbody>\n",
       "    <tr>\n",
       "      <th>a</th>\n",
       "      <td>-0.898388</td>\n",
       "      <td>1.663427</td>\n",
       "      <td>1.044188</td>\n",
       "      <td>-1.294744</td>\n",
       "    </tr>\n",
       "    <tr>\n",
       "      <th>b</th>\n",
       "      <td>-1.071240</td>\n",
       "      <td>-0.651544</td>\n",
       "      <td>-0.494917</td>\n",
       "      <td>-0.638538</td>\n",
       "    </tr>\n",
       "    <tr>\n",
       "      <th>c</th>\n",
       "      <td>-0.720672</td>\n",
       "      <td>-1.033743</td>\n",
       "      <td>-0.914941</td>\n",
       "      <td>-1.076371</td>\n",
       "    </tr>\n",
       "    <tr>\n",
       "      <th>d</th>\n",
       "      <td>-0.052101</td>\n",
       "      <td>-0.472600</td>\n",
       "      <td>1.372860</td>\n",
       "      <td>1.305931</td>\n",
       "    </tr>\n",
       "    <tr>\n",
       "      <th>e</th>\n",
       "      <td>1.408189</td>\n",
       "      <td>0.627496</td>\n",
       "      <td>-0.369238</td>\n",
       "      <td>-0.557183</td>\n",
       "    </tr>\n",
       "  </tbody>\n",
       "</table>\n",
       "</div>"
      ],
      "text/plain": [
       "          p         q         r         s\n",
       "a -0.898388  1.663427  1.044188 -1.294744\n",
       "b -1.071240 -0.651544 -0.494917 -0.638538\n",
       "c -0.720672 -1.033743 -0.914941 -1.076371\n",
       "d -0.052101 -0.472600  1.372860  1.305931\n",
       "e  1.408189  0.627496 -0.369238 -0.557183"
      ]
     },
     "execution_count": 18,
     "metadata": {},
     "output_type": "execute_result"
    }
   ],
   "source": [
    "pd.DataFrame(np.random.randn(5,4),index='a b c d e'.split(\" \"),columns='p q r s'.split(\" \"))"
   ]
  },
  {
   "cell_type": "code",
   "execution_count": 19,
   "id": "b3e0cd57-90b8-4728-b34c-45c7d174c4eb",
   "metadata": {},
   "outputs": [],
   "source": [
    "df=pd.DataFrame(np.random.rand(5,4),index='a b c d e'.split(\" \"),columns='p q r s'.split(\" \"))\n"
   ]
  },
  {
   "cell_type": "code",
   "execution_count": 20,
   "id": "c5df3026-1885-4e90-8ae5-6d9e2c51c1ae",
   "metadata": {},
   "outputs": [
    {
     "name": "stdout",
     "output_type": "stream",
     "text": [
      "a    0.125674\n",
      "b    0.028479\n",
      "c    0.093462\n",
      "d    0.789567\n",
      "e    0.819763\n",
      "Name: p, dtype: float64\n"
     ]
    }
   ],
   "source": [
    "print(df['p'])"
   ]
  },
  {
   "cell_type": "code",
   "execution_count": 21,
   "id": "eb0ceb8b-5927-4675-8e4f-cb12b333a6ce",
   "metadata": {},
   "outputs": [
    {
     "name": "stdout",
     "output_type": "stream",
     "text": [
      "          r         s\n",
      "a  0.158111  0.274758\n",
      "b  0.877976  0.229674\n",
      "c  0.343881  0.996678\n",
      "d  0.908131  0.630476\n",
      "e  0.101129  0.097476\n"
     ]
    }
   ],
   "source": [
    "print(df[['r','s']])"
   ]
  },
  {
   "cell_type": "code",
   "execution_count": 22,
   "id": "de452ecb-177a-4de4-b91d-9fb1c5284765",
   "metadata": {},
   "outputs": [
    {
     "name": "stdout",
     "output_type": "stream",
     "text": [
      "<class 'pandas.core.series.Series'>\n"
     ]
    }
   ],
   "source": [
    "print(type(df['p']))"
   ]
  },
  {
   "cell_type": "code",
   "execution_count": 23,
   "id": "ab39ca13-6c0c-48be-b9be-d5e6b102e636",
   "metadata": {},
   "outputs": [
    {
     "name": "stdout",
     "output_type": "stream",
     "text": [
      "          p         q         r         s         t\n",
      "a  0.125674  0.159444  0.158111  0.274758  0.254618\n",
      "b  0.028479  0.813376  0.877976  0.229674  0.381206\n",
      "c  0.093462  0.494437  0.343881  0.996678  0.304650\n",
      "d  0.789567  0.826248  0.908131  0.630476  0.380272\n",
      "e  0.819763  0.358366  0.101129  0.097476  0.104502\n"
     ]
    }
   ],
   "source": [
    "df['t']=np.random.rand(5,1)\n",
    "print(df)"
   ]
  },
  {
   "cell_type": "code",
   "execution_count": 24,
   "id": "d7ce1af9-684e-4ca7-85c8-7a1b00ad5924",
   "metadata": {},
   "outputs": [
    {
     "name": "stdout",
     "output_type": "stream",
     "text": [
      "          q         r         s         t\n",
      "a  0.159444  0.158111  0.274758  0.254618\n",
      "b  0.813376  0.877976  0.229674  0.381206\n",
      "c  0.494437  0.343881  0.996678  0.304650\n",
      "d  0.826248  0.908131  0.630476  0.380272\n",
      "e  0.358366  0.101129  0.097476  0.104502\n"
     ]
    }
   ],
   "source": [
    "df=df.drop(columns='p')\n",
    "print(df)"
   ]
  },
  {
   "cell_type": "code",
   "execution_count": 25,
   "id": "1fceb50e-2474-4f0c-b84c-7b67cbabff61",
   "metadata": {},
   "outputs": [
    {
     "name": "stdout",
     "output_type": "stream",
     "text": [
      "q    0.159444\n",
      "r    0.158111\n",
      "s    0.274758\n",
      "t    0.254618\n",
      "Name: a, dtype: float64\n"
     ]
    }
   ],
   "source": [
    "# select a the row\n",
    "print(df.loc['a'])"
   ]
  },
  {
   "cell_type": "code",
   "execution_count": 26,
   "id": "0ca2d42d-a22f-4f66-a980-f647d11b3318",
   "metadata": {},
   "outputs": [
    {
     "name": "stdout",
     "output_type": "stream",
     "text": [
      "q    0.494437\n",
      "r    0.343881\n",
      "s    0.996678\n",
      "t    0.304650\n",
      "Name: c, dtype: float64\n"
     ]
    }
   ],
   "source": [
    "print(df.iloc[2])"
   ]
  },
  {
   "cell_type": "code",
   "execution_count": 27,
   "id": "70c84a7d-b451-4c46-b344-3fb6ccf907b5",
   "metadata": {},
   "outputs": [
    {
     "name": "stdout",
     "output_type": "stream",
     "text": [
      "0.8779763437590636\n"
     ]
    }
   ],
   "source": [
    "print(df.loc['b','r'])"
   ]
  },
  {
   "cell_type": "code",
   "execution_count": 28,
   "id": "0f6d4c6f-f222-42a6-8413-2d0c5dd59033",
   "metadata": {},
   "outputs": [
    {
     "name": "stdout",
     "output_type": "stream",
     "text": [
      "          r         s\n",
      "a  0.158111  0.274758\n",
      "b  0.877976  0.229674\n"
     ]
    }
   ],
   "source": [
    "print(df.loc[['a','b'],['r','s']])"
   ]
  },
  {
   "cell_type": "code",
   "execution_count": 29,
   "id": "8cc0f51f-72c3-4033-9d97-c1404ab7d013",
   "metadata": {},
   "outputs": [
    {
     "name": "stdout",
     "output_type": "stream",
     "text": [
      "[('a', 1), ('a', 2), ('a', 3), ('b', 1), ('b', 2), ('b', 3)]\n"
     ]
    }
   ],
   "source": [
    "a1=['a','a','a','b','b','b']\n",
    "a2=[1,2,3,1,2,3]\n",
    "p=list(zip(a1,a2))\n",
    "print(p)"
   ]
  },
  {
   "cell_type": "code",
   "execution_count": 30,
   "id": "906badc1-f6a1-49b3-b955-4b8742bd15ec",
   "metadata": {},
   "outputs": [
    {
     "data": {
      "text/html": [
       "<div>\n",
       "<style scoped>\n",
       "    .dataframe tbody tr th:only-of-type {\n",
       "        vertical-align: middle;\n",
       "    }\n",
       "\n",
       "    .dataframe tbody tr th {\n",
       "        vertical-align: top;\n",
       "    }\n",
       "\n",
       "    .dataframe thead th {\n",
       "        text-align: right;\n",
       "    }\n",
       "</style>\n",
       "<table border=\"1\" class=\"dataframe\">\n",
       "  <thead>\n",
       "    <tr style=\"text-align: right;\">\n",
       "      <th></th>\n",
       "      <th>x</th>\n",
       "      <th>y</th>\n",
       "    </tr>\n",
       "  </thead>\n",
       "  <tbody>\n",
       "    <tr>\n",
       "      <th>(a, 1)</th>\n",
       "      <td>0.196059</td>\n",
       "      <td>0.898827</td>\n",
       "    </tr>\n",
       "    <tr>\n",
       "      <th>(a, 2)</th>\n",
       "      <td>0.088648</td>\n",
       "      <td>0.785646</td>\n",
       "    </tr>\n",
       "    <tr>\n",
       "      <th>(a, 3)</th>\n",
       "      <td>0.311470</td>\n",
       "      <td>0.178539</td>\n",
       "    </tr>\n",
       "    <tr>\n",
       "      <th>(b, 1)</th>\n",
       "      <td>0.790480</td>\n",
       "      <td>0.845521</td>\n",
       "    </tr>\n",
       "    <tr>\n",
       "      <th>(b, 2)</th>\n",
       "      <td>0.257389</td>\n",
       "      <td>0.903158</td>\n",
       "    </tr>\n",
       "    <tr>\n",
       "      <th>(b, 3)</th>\n",
       "      <td>0.235622</td>\n",
       "      <td>0.941891</td>\n",
       "    </tr>\n",
       "  </tbody>\n",
       "</table>\n",
       "</div>"
      ],
      "text/plain": [
       "               x         y\n",
       "(a, 1)  0.196059  0.898827\n",
       "(a, 2)  0.088648  0.785646\n",
       "(a, 3)  0.311470  0.178539\n",
       "(b, 1)  0.790480  0.845521\n",
       "(b, 2)  0.257389  0.903158\n",
       "(b, 3)  0.235622  0.941891"
      ]
     },
     "execution_count": 30,
     "metadata": {},
     "output_type": "execute_result"
    }
   ],
   "source": [
    "pf=pd.DataFrame(np.random.rand(6,2),index=p,columns=['x','y'])\n",
    "pf"
   ]
  },
  {
   "cell_type": "code",
   "execution_count": null,
   "id": "d1674e55-71fd-477c-b326-3a2c1d9006fc",
   "metadata": {},
   "outputs": [],
   "source": []
  }
 ],
 "metadata": {
  "kernelspec": {
   "display_name": "Python 3 (ipykernel)",
   "language": "python",
   "name": "python3"
  },
  "language_info": {
   "codemirror_mode": {
    "name": "ipython",
    "version": 3
   },
   "file_extension": ".py",
   "mimetype": "text/x-python",
   "name": "python",
   "nbconvert_exporter": "python",
   "pygments_lexer": "ipython3",
   "version": "3.12.4"
  }
 },
 "nbformat": 4,
 "nbformat_minor": 5
}
