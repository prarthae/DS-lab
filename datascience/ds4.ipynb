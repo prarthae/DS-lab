{
 "cells": [
  {
   "cell_type": "code",
   "execution_count": 1,
   "id": "bc1532c7-a160-42d5-a960-4b6a848de64d",
   "metadata": {},
   "outputs": [],
   "source": [
    "import numpy as np\n",
    "import pandas as pd"
   ]
  },
  {
   "cell_type": "code",
   "execution_count": 10,
   "id": "80913b23-f9b7-4503-a955-53e5adce48d3",
   "metadata": {},
   "outputs": [],
   "source": [
    "df=pd.DataFrame(np.random.randn(5,4),index='a b c d e'.split(\" \"),columns='p q r s'.split(\" \"))"
   ]
  },
  {
   "cell_type": "code",
   "execution_count": 11,
   "id": "404096ce-f65a-4f98-94fd-45a7547aff7b",
   "metadata": {},
   "outputs": [
    {
     "data": {
      "text/html": [
       "<div>\n",
       "<style scoped>\n",
       "    .dataframe tbody tr th:only-of-type {\n",
       "        vertical-align: middle;\n",
       "    }\n",
       "\n",
       "    .dataframe tbody tr th {\n",
       "        vertical-align: top;\n",
       "    }\n",
       "\n",
       "    .dataframe thead th {\n",
       "        text-align: right;\n",
       "    }\n",
       "</style>\n",
       "<table border=\"1\" class=\"dataframe\">\n",
       "  <thead>\n",
       "    <tr style=\"text-align: right;\">\n",
       "      <th></th>\n",
       "      <th>p</th>\n",
       "      <th>q</th>\n",
       "      <th>r</th>\n",
       "      <th>s</th>\n",
       "    </tr>\n",
       "  </thead>\n",
       "  <tbody>\n",
       "    <tr>\n",
       "      <th>a</th>\n",
       "      <td>0.377338</td>\n",
       "      <td>-1.225875</td>\n",
       "      <td>1.668559</td>\n",
       "      <td>0.381614</td>\n",
       "    </tr>\n",
       "    <tr>\n",
       "      <th>b</th>\n",
       "      <td>0.883540</td>\n",
       "      <td>-1.342866</td>\n",
       "      <td>-0.630050</td>\n",
       "      <td>-0.237747</td>\n",
       "    </tr>\n",
       "    <tr>\n",
       "      <th>c</th>\n",
       "      <td>0.148330</td>\n",
       "      <td>-0.993698</td>\n",
       "      <td>0.219291</td>\n",
       "      <td>-1.093918</td>\n",
       "    </tr>\n",
       "    <tr>\n",
       "      <th>d</th>\n",
       "      <td>1.438630</td>\n",
       "      <td>0.568859</td>\n",
       "      <td>-0.544340</td>\n",
       "      <td>-1.068075</td>\n",
       "    </tr>\n",
       "    <tr>\n",
       "      <th>e</th>\n",
       "      <td>-0.127679</td>\n",
       "      <td>0.452366</td>\n",
       "      <td>-0.514192</td>\n",
       "      <td>-0.050423</td>\n",
       "    </tr>\n",
       "  </tbody>\n",
       "</table>\n",
       "</div>"
      ],
      "text/plain": [
       "          p         q         r         s\n",
       "a  0.377338 -1.225875  1.668559  0.381614\n",
       "b  0.883540 -1.342866 -0.630050 -0.237747\n",
       "c  0.148330 -0.993698  0.219291 -1.093918\n",
       "d  1.438630  0.568859 -0.544340 -1.068075\n",
       "e -0.127679  0.452366 -0.514192 -0.050423"
      ]
     },
     "execution_count": 11,
     "metadata": {},
     "output_type": "execute_result"
    }
   ],
   "source": [
    "df"
   ]
  },
  {
   "cell_type": "code",
   "execution_count": 12,
   "id": "183739c4-fae8-4e20-9d64-6eb5f2e25912",
   "metadata": {},
   "outputs": [],
   "source": [
    "s_df=df.sort_values(by=[\"p\"],ascending=[True])"
   ]
  },
  {
   "cell_type": "code",
   "execution_count": 13,
   "id": "ed83a310-c852-4d5d-8ca2-91222d30e351",
   "metadata": {},
   "outputs": [
    {
     "name": "stdout",
     "output_type": "stream",
     "text": [
      "          p         q         r         s\n",
      "e -0.127679  0.452366 -0.514192 -0.050423\n",
      "c  0.148330 -0.993698  0.219291 -1.093918\n",
      "a  0.377338 -1.225875  1.668559  0.381614\n",
      "b  0.883540 -1.342866 -0.630050 -0.237747\n",
      "d  1.438630  0.568859 -0.544340 -1.068075\n"
     ]
    }
   ],
   "source": [
    "print(s_df)"
   ]
  },
  {
   "cell_type": "code",
   "execution_count": 14,
   "id": "2f5ce2b6-ed80-4285-82e0-13121092d9a0",
   "metadata": {},
   "outputs": [],
   "source": [
    "s2_df=df.sort_values(by=[\"q\",\"r\"],ascending=[True,True])"
   ]
  },
  {
   "cell_type": "code",
   "execution_count": 21,
   "id": "a9a369bc-7e33-4480-8ff9-1744f2232300",
   "metadata": {},
   "outputs": [
    {
     "name": "stdout",
     "output_type": "stream",
     "text": [
      "          p         q         r         s\n",
      "b  0.883540 -1.342866 -0.630050 -0.237747\n",
      "a  0.377338 -1.225875  1.668559  0.381614\n",
      "c  0.148330 -0.993698  0.219291 -1.093918\n",
      "e -0.127679  0.452366 -0.514192 -0.050423\n",
      "d  1.438630  0.568859 -0.544340 -1.068075\n",
      "0  0.000000       NaN       NaN       NaN\n"
     ]
    }
   ],
   "source": [
    "print(s2_df)"
   ]
  },
  {
   "cell_type": "code",
   "execution_count": 20,
   "id": "c3ec2d31-93b3-483a-9095-7d3d27f94ed7",
   "metadata": {},
   "outputs": [],
   "source": [
    "s2_df.loc[0, 'p'] = 0"
   ]
  },
  {
   "cell_type": "code",
   "execution_count": null,
   "id": "4fcb34ba-faef-44de-9fc9-681e68fa8bf9",
   "metadata": {},
   "outputs": [],
   "source": []
  }
 ],
 "metadata": {
  "kernelspec": {
   "display_name": "Python 3 (ipykernel)",
   "language": "python",
   "name": "python3"
  },
  "language_info": {
   "codemirror_mode": {
    "name": "ipython",
    "version": 3
   },
   "file_extension": ".py",
   "mimetype": "text/x-python",
   "name": "python",
   "nbconvert_exporter": "python",
   "pygments_lexer": "ipython3",
   "version": "3.12.4"
  }
 },
 "nbformat": 4,
 "nbformat_minor": 5
}
